{
 "cells": [
  {
   "cell_type": "code",
   "execution_count": 1,
   "metadata": {},
   "outputs": [],
   "source": [
    "import os\n",
    "os.environ['CUDA_VISIBLE_DEVICES'] = '4,5,6,7'"
   ]
  },
  {
   "cell_type": "code",
   "execution_count": 2,
   "metadata": {},
   "outputs": [
    {
     "name": "stderr",
     "output_type": "stream",
     "text": [
      "/mnt/nv1/yeqiang/lcx/nicy/envs/VideoReward/lib/python3.10/site-packages/tqdm/auto.py:21: TqdmWarning: IProgress not found. Please update jupyter and ipywidgets. See https://ipywidgets.readthedocs.io/en/stable/user_install.html\n",
      "  from .autonotebook import tqdm as notebook_tqdm\n"
     ]
    }
   ],
   "source": [
    "import torch\n",
    "import torch.nn as nn\n",
    "\n",
    "import transformers\n",
    "\n",
    "from transformers import (\n",
    "    Qwen2ForCausalLM, \n",
    "    Qwen2TokenizerFast,\n",
    "    AutoTokenizer,\n",
    "    AutoConfig,\n",
    "    AutoModel,\n",
    "    pipeline\n",
    ")"
   ]
  },
  {
   "cell_type": "code",
   "execution_count": 25,
   "metadata": {},
   "outputs": [
    {
     "data": {
      "text/plain": [
       "Qwen2Config {\n",
       "  \"_name_or_path\": \"/mnt/nv1/yeqiang/lcx/nicy/.cache/huggingface/hub/models--Qwen--Qwen2-1.5B-Instruct\",\n",
       "  \"architectures\": [\n",
       "    \"Qwen2ForCausalLM\"\n",
       "  ],\n",
       "  \"attention_dropout\": 0.0,\n",
       "  \"bos_token_id\": 151643,\n",
       "  \"eos_token_id\": 151645,\n",
       "  \"hidden_act\": \"silu\",\n",
       "  \"hidden_size\": 1536,\n",
       "  \"initializer_range\": 0.02,\n",
       "  \"intermediate_size\": 8960,\n",
       "  \"max_position_embeddings\": 32768,\n",
       "  \"max_window_layers\": 21,\n",
       "  \"model_type\": \"qwen2\",\n",
       "  \"num_attention_heads\": 12,\n",
       "  \"num_hidden_layers\": 28,\n",
       "  \"num_key_value_heads\": 2,\n",
       "  \"output_dim\": 1,\n",
       "  \"rms_norm_eps\": 1e-06,\n",
       "  \"rope_scaling\": null,\n",
       "  \"rope_theta\": 1000000.0,\n",
       "  \"sliding_window\": 32768,\n",
       "  \"tie_word_embeddings\": true,\n",
       "  \"torch_dtype\": \"bfloat16\",\n",
       "  \"transformers_version\": \"4.49.0\",\n",
       "  \"use_cache\": true,\n",
       "  \"use_sliding_window\": false,\n",
       "  \"vocab_size\": 151936\n",
       "}"
      ]
     },
     "execution_count": 25,
     "metadata": {},
     "output_type": "execute_result"
    }
   ],
   "source": [
    "config = AutoConfig.from_pretrained(\n",
    "    '/mnt/nv1/yeqiang/lcx/nicy/.cache/huggingface/hub/models--Qwen--Qwen2-1.5B-Instruct'\n",
    ")\n",
    "config.output_dim =1\n",
    "config"
   ]
  },
  {
   "cell_type": "code",
   "execution_count": 4,
   "metadata": {},
   "outputs": [
    {
     "data": {
      "text/plain": [
       "True"
      ]
     },
     "execution_count": 4,
     "metadata": {},
     "output_type": "execute_result"
    }
   ],
   "source": [
    "tokenizer = AutoTokenizer.from_pretrained(\n",
    "    '/mnt/nv1/yeqiang/lcx/nicy/.cache/huggingface/hub/models--Qwen--Qwen2-1.5B-Instruct',\n",
    "    padding_side=\"right\"\n",
    ")\n",
    "isinstance(tokenizer, Qwen2TokenizerFast)"
   ]
  },
  {
   "cell_type": "code",
   "execution_count": 5,
   "metadata": {},
   "outputs": [],
   "source": [
    "tokenizer.add_special_tokens(\n",
    "    {'additional_special_tokens':[\"|<fkjalkf>|\"]})\n",
    "special_token_ids = tokenizer.convert_tokens_to_ids([\"|<fkjalkf>|\"])"
   ]
  },
  {
   "cell_type": "code",
   "execution_count": null,
   "metadata": {},
   "outputs": [],
   "source": []
  },
  {
   "cell_type": "code",
   "execution_count": 18,
   "metadata": {},
   "outputs": [
    {
     "name": "stderr",
     "output_type": "stream",
     "text": [
      "Loading checkpoint shards: 100%|██████████| 2/2 [00:01<00:00,  1.09it/s]\n"
     ]
    },
    {
     "data": {
      "text/plain": [
       "Qwen2VLForConditionalGeneration(\n",
       "  (visual): Qwen2VisionTransformerPretrainedModel(\n",
       "    (patch_embed): PatchEmbed(\n",
       "      (proj): Conv3d(3, 1280, kernel_size=(2, 14, 14), stride=(2, 14, 14), bias=False)\n",
       "    )\n",
       "    (rotary_pos_emb): VisionRotaryEmbedding()\n",
       "    (blocks): ModuleList(\n",
       "      (0-31): 32 x Qwen2VLVisionBlock(\n",
       "        (norm1): LayerNorm((1280,), eps=1e-06, elementwise_affine=True)\n",
       "        (norm2): LayerNorm((1280,), eps=1e-06, elementwise_affine=True)\n",
       "        (attn): VisionSdpaAttention(\n",
       "          (qkv): Linear(in_features=1280, out_features=3840, bias=True)\n",
       "          (proj): Linear(in_features=1280, out_features=1280, bias=True)\n",
       "        )\n",
       "        (mlp): VisionMlp(\n",
       "          (fc1): Linear(in_features=1280, out_features=5120, bias=True)\n",
       "          (act): QuickGELUActivation()\n",
       "          (fc2): Linear(in_features=5120, out_features=1280, bias=True)\n",
       "        )\n",
       "      )\n",
       "    )\n",
       "    (merger): PatchMerger(\n",
       "      (ln_q): LayerNorm((1280,), eps=1e-06, elementwise_affine=True)\n",
       "      (mlp): Sequential(\n",
       "        (0): Linear(in_features=5120, out_features=5120, bias=True)\n",
       "        (1): GELU(approximate='none')\n",
       "        (2): Linear(in_features=5120, out_features=1536, bias=True)\n",
       "      )\n",
       "    )\n",
       "  )\n",
       "  (model): Qwen2VLModel(\n",
       "    (embed_tokens): Embedding(151936, 1536)\n",
       "    (layers): ModuleList(\n",
       "      (0-27): 28 x Qwen2VLDecoderLayer(\n",
       "        (self_attn): Qwen2VLSdpaAttention(\n",
       "          (q_proj): Linear(in_features=1536, out_features=1536, bias=True)\n",
       "          (k_proj): Linear(in_features=1536, out_features=256, bias=True)\n",
       "          (v_proj): Linear(in_features=1536, out_features=256, bias=True)\n",
       "          (o_proj): Linear(in_features=1536, out_features=1536, bias=False)\n",
       "          (rotary_emb): Qwen2VLRotaryEmbedding()\n",
       "        )\n",
       "        (mlp): Qwen2MLP(\n",
       "          (gate_proj): Linear(in_features=1536, out_features=8960, bias=False)\n",
       "          (up_proj): Linear(in_features=1536, out_features=8960, bias=False)\n",
       "          (down_proj): Linear(in_features=8960, out_features=1536, bias=False)\n",
       "          (act_fn): SiLU()\n",
       "        )\n",
       "        (input_layernorm): Qwen2RMSNorm((1536,), eps=1e-06)\n",
       "        (post_attention_layernorm): Qwen2RMSNorm((1536,), eps=1e-06)\n",
       "      )\n",
       "    )\n",
       "    (norm): Qwen2RMSNorm((1536,), eps=1e-06)\n",
       "    (rotary_emb): Qwen2VLRotaryEmbedding()\n",
       "  )\n",
       "  (lm_head): Linear(in_features=1536, out_features=151936, bias=False)\n",
       ")"
      ]
     },
     "execution_count": 18,
     "metadata": {},
     "output_type": "execute_result"
    }
   ],
   "source": [
    "from transformers import Qwen2VLForConditionalGeneration\n",
    "model = Qwen2VLForConditionalGeneration.from_pretrained(\n",
    "    '/mnt/nv1/yeqiang/lcx/nicy/.cache/huggingface/hub/models--Qwen--Qwen2-VL-2B-Instruct/snapshots/895c3a49bc3fa70a340399125c650a463535e71c'\n",
    ")\n",
    "model"
   ]
  },
  {
   "cell_type": "code",
   "execution_count": 17,
   "metadata": {},
   "outputs": [
    {
     "name": "stdout",
     "output_type": "stream",
     "text": [
      "['embed_tokens.weight', 'layers.0.self_attn.q_proj.weight', 'layers.0.self_attn.q_proj.bias', 'layers.0.self_attn.k_proj.weight', 'layers.0.self_attn.k_proj.bias', 'layers.0.self_attn.v_proj.weight', 'layers.0.self_attn.v_proj.bias', 'layers.0.self_attn.o_proj.weight', 'layers.0.mlp.gate_proj.weight', 'layers.0.mlp.up_proj.weight', 'layers.0.mlp.down_proj.weight', 'layers.0.input_layernorm.weight', 'layers.0.post_attention_layernorm.weight', 'layers.1.self_attn.q_proj.weight', 'layers.1.self_attn.q_proj.bias', 'layers.1.self_attn.k_proj.weight', 'layers.1.self_attn.k_proj.bias', 'layers.1.self_attn.v_proj.weight', 'layers.1.self_attn.v_proj.bias', 'layers.1.self_attn.o_proj.weight', 'layers.1.mlp.gate_proj.weight', 'layers.1.mlp.up_proj.weight', 'layers.1.mlp.down_proj.weight', 'layers.1.input_layernorm.weight', 'layers.1.post_attention_layernorm.weight', 'layers.2.self_attn.q_proj.weight', 'layers.2.self_attn.q_proj.bias', 'layers.2.self_attn.k_proj.weight', 'layers.2.self_attn.k_proj.bias', 'layers.2.self_attn.v_proj.weight', 'layers.2.self_attn.v_proj.bias', 'layers.2.self_attn.o_proj.weight', 'layers.2.mlp.gate_proj.weight', 'layers.2.mlp.up_proj.weight', 'layers.2.mlp.down_proj.weight', 'layers.2.input_layernorm.weight', 'layers.2.post_attention_layernorm.weight', 'layers.3.self_attn.q_proj.weight', 'layers.3.self_attn.q_proj.bias', 'layers.3.self_attn.k_proj.weight', 'layers.3.self_attn.k_proj.bias', 'layers.3.self_attn.v_proj.weight', 'layers.3.self_attn.v_proj.bias', 'layers.3.self_attn.o_proj.weight', 'layers.3.mlp.gate_proj.weight', 'layers.3.mlp.up_proj.weight', 'layers.3.mlp.down_proj.weight', 'layers.3.input_layernorm.weight', 'layers.3.post_attention_layernorm.weight', 'layers.4.self_attn.q_proj.weight', 'layers.4.self_attn.q_proj.bias', 'layers.4.self_attn.k_proj.weight', 'layers.4.self_attn.k_proj.bias', 'layers.4.self_attn.v_proj.weight', 'layers.4.self_attn.v_proj.bias', 'layers.4.self_attn.o_proj.weight', 'layers.4.mlp.gate_proj.weight', 'layers.4.mlp.up_proj.weight', 'layers.4.mlp.down_proj.weight', 'layers.4.input_layernorm.weight', 'layers.4.post_attention_layernorm.weight', 'layers.5.self_attn.q_proj.weight', 'layers.5.self_attn.q_proj.bias', 'layers.5.self_attn.k_proj.weight', 'layers.5.self_attn.k_proj.bias', 'layers.5.self_attn.v_proj.weight', 'layers.5.self_attn.v_proj.bias', 'layers.5.self_attn.o_proj.weight', 'layers.5.mlp.gate_proj.weight', 'layers.5.mlp.up_proj.weight', 'layers.5.mlp.down_proj.weight', 'layers.5.input_layernorm.weight', 'layers.5.post_attention_layernorm.weight', 'layers.6.self_attn.q_proj.weight', 'layers.6.self_attn.q_proj.bias', 'layers.6.self_attn.k_proj.weight', 'layers.6.self_attn.k_proj.bias', 'layers.6.self_attn.v_proj.weight', 'layers.6.self_attn.v_proj.bias', 'layers.6.self_attn.o_proj.weight', 'layers.6.mlp.gate_proj.weight', 'layers.6.mlp.up_proj.weight', 'layers.6.mlp.down_proj.weight', 'layers.6.input_layernorm.weight', 'layers.6.post_attention_layernorm.weight', 'layers.7.self_attn.q_proj.weight', 'layers.7.self_attn.q_proj.bias', 'layers.7.self_attn.k_proj.weight', 'layers.7.self_attn.k_proj.bias', 'layers.7.self_attn.v_proj.weight', 'layers.7.self_attn.v_proj.bias', 'layers.7.self_attn.o_proj.weight', 'layers.7.mlp.gate_proj.weight', 'layers.7.mlp.up_proj.weight', 'layers.7.mlp.down_proj.weight', 'layers.7.input_layernorm.weight', 'layers.7.post_attention_layernorm.weight', 'layers.8.self_attn.q_proj.weight', 'layers.8.self_attn.q_proj.bias', 'layers.8.self_attn.k_proj.weight', 'layers.8.self_attn.k_proj.bias', 'layers.8.self_attn.v_proj.weight', 'layers.8.self_attn.v_proj.bias', 'layers.8.self_attn.o_proj.weight', 'layers.8.mlp.gate_proj.weight', 'layers.8.mlp.up_proj.weight', 'layers.8.mlp.down_proj.weight', 'layers.8.input_layernorm.weight', 'layers.8.post_attention_layernorm.weight', 'layers.9.self_attn.q_proj.weight', 'layers.9.self_attn.q_proj.bias', 'layers.9.self_attn.k_proj.weight', 'layers.9.self_attn.k_proj.bias', 'layers.9.self_attn.v_proj.weight', 'layers.9.self_attn.v_proj.bias', 'layers.9.self_attn.o_proj.weight', 'layers.9.mlp.gate_proj.weight', 'layers.9.mlp.up_proj.weight', 'layers.9.mlp.down_proj.weight', 'layers.9.input_layernorm.weight', 'layers.9.post_attention_layernorm.weight', 'layers.10.self_attn.q_proj.weight', 'layers.10.self_attn.q_proj.bias', 'layers.10.self_attn.k_proj.weight', 'layers.10.self_attn.k_proj.bias', 'layers.10.self_attn.v_proj.weight', 'layers.10.self_attn.v_proj.bias', 'layers.10.self_attn.o_proj.weight', 'layers.10.mlp.gate_proj.weight', 'layers.10.mlp.up_proj.weight', 'layers.10.mlp.down_proj.weight', 'layers.10.input_layernorm.weight', 'layers.10.post_attention_layernorm.weight', 'layers.11.self_attn.q_proj.weight', 'layers.11.self_attn.q_proj.bias', 'layers.11.self_attn.k_proj.weight', 'layers.11.self_attn.k_proj.bias', 'layers.11.self_attn.v_proj.weight', 'layers.11.self_attn.v_proj.bias', 'layers.11.self_attn.o_proj.weight', 'layers.11.mlp.gate_proj.weight', 'layers.11.mlp.up_proj.weight', 'layers.11.mlp.down_proj.weight', 'layers.11.input_layernorm.weight', 'layers.11.post_attention_layernorm.weight', 'layers.12.self_attn.q_proj.weight', 'layers.12.self_attn.q_proj.bias', 'layers.12.self_attn.k_proj.weight', 'layers.12.self_attn.k_proj.bias', 'layers.12.self_attn.v_proj.weight', 'layers.12.self_attn.v_proj.bias', 'layers.12.self_attn.o_proj.weight', 'layers.12.mlp.gate_proj.weight', 'layers.12.mlp.up_proj.weight', 'layers.12.mlp.down_proj.weight', 'layers.12.input_layernorm.weight', 'layers.12.post_attention_layernorm.weight', 'layers.13.self_attn.q_proj.weight', 'layers.13.self_attn.q_proj.bias', 'layers.13.self_attn.k_proj.weight', 'layers.13.self_attn.k_proj.bias', 'layers.13.self_attn.v_proj.weight', 'layers.13.self_attn.v_proj.bias', 'layers.13.self_attn.o_proj.weight', 'layers.13.mlp.gate_proj.weight', 'layers.13.mlp.up_proj.weight', 'layers.13.mlp.down_proj.weight', 'layers.13.input_layernorm.weight', 'layers.13.post_attention_layernorm.weight', 'layers.14.self_attn.q_proj.weight', 'layers.14.self_attn.q_proj.bias', 'layers.14.self_attn.k_proj.weight', 'layers.14.self_attn.k_proj.bias', 'layers.14.self_attn.v_proj.weight', 'layers.14.self_attn.v_proj.bias', 'layers.14.self_attn.o_proj.weight', 'layers.14.mlp.gate_proj.weight', 'layers.14.mlp.up_proj.weight', 'layers.14.mlp.down_proj.weight', 'layers.14.input_layernorm.weight', 'layers.14.post_attention_layernorm.weight', 'layers.15.self_attn.q_proj.weight', 'layers.15.self_attn.q_proj.bias', 'layers.15.self_attn.k_proj.weight', 'layers.15.self_attn.k_proj.bias', 'layers.15.self_attn.v_proj.weight', 'layers.15.self_attn.v_proj.bias', 'layers.15.self_attn.o_proj.weight', 'layers.15.mlp.gate_proj.weight', 'layers.15.mlp.up_proj.weight', 'layers.15.mlp.down_proj.weight', 'layers.15.input_layernorm.weight', 'layers.15.post_attention_layernorm.weight', 'layers.16.self_attn.q_proj.weight', 'layers.16.self_attn.q_proj.bias', 'layers.16.self_attn.k_proj.weight', 'layers.16.self_attn.k_proj.bias', 'layers.16.self_attn.v_proj.weight', 'layers.16.self_attn.v_proj.bias', 'layers.16.self_attn.o_proj.weight', 'layers.16.mlp.gate_proj.weight', 'layers.16.mlp.up_proj.weight', 'layers.16.mlp.down_proj.weight', 'layers.16.input_layernorm.weight', 'layers.16.post_attention_layernorm.weight', 'layers.17.self_attn.q_proj.weight', 'layers.17.self_attn.q_proj.bias', 'layers.17.self_attn.k_proj.weight', 'layers.17.self_attn.k_proj.bias', 'layers.17.self_attn.v_proj.weight', 'layers.17.self_attn.v_proj.bias', 'layers.17.self_attn.o_proj.weight', 'layers.17.mlp.gate_proj.weight', 'layers.17.mlp.up_proj.weight', 'layers.17.mlp.down_proj.weight', 'layers.17.input_layernorm.weight', 'layers.17.post_attention_layernorm.weight', 'layers.18.self_attn.q_proj.weight', 'layers.18.self_attn.q_proj.bias', 'layers.18.self_attn.k_proj.weight', 'layers.18.self_attn.k_proj.bias', 'layers.18.self_attn.v_proj.weight', 'layers.18.self_attn.v_proj.bias', 'layers.18.self_attn.o_proj.weight', 'layers.18.mlp.gate_proj.weight', 'layers.18.mlp.up_proj.weight', 'layers.18.mlp.down_proj.weight', 'layers.18.input_layernorm.weight', 'layers.18.post_attention_layernorm.weight', 'layers.19.self_attn.q_proj.weight', 'layers.19.self_attn.q_proj.bias', 'layers.19.self_attn.k_proj.weight', 'layers.19.self_attn.k_proj.bias', 'layers.19.self_attn.v_proj.weight', 'layers.19.self_attn.v_proj.bias', 'layers.19.self_attn.o_proj.weight', 'layers.19.mlp.gate_proj.weight', 'layers.19.mlp.up_proj.weight', 'layers.19.mlp.down_proj.weight', 'layers.19.input_layernorm.weight', 'layers.19.post_attention_layernorm.weight', 'layers.20.self_attn.q_proj.weight', 'layers.20.self_attn.q_proj.bias', 'layers.20.self_attn.k_proj.weight', 'layers.20.self_attn.k_proj.bias', 'layers.20.self_attn.v_proj.weight', 'layers.20.self_attn.v_proj.bias', 'layers.20.self_attn.o_proj.weight', 'layers.20.mlp.gate_proj.weight', 'layers.20.mlp.up_proj.weight', 'layers.20.mlp.down_proj.weight', 'layers.20.input_layernorm.weight', 'layers.20.post_attention_layernorm.weight', 'layers.21.self_attn.q_proj.weight', 'layers.21.self_attn.q_proj.bias', 'layers.21.self_attn.k_proj.weight', 'layers.21.self_attn.k_proj.bias', 'layers.21.self_attn.v_proj.weight', 'layers.21.self_attn.v_proj.bias', 'layers.21.self_attn.o_proj.weight', 'layers.21.mlp.gate_proj.weight', 'layers.21.mlp.up_proj.weight', 'layers.21.mlp.down_proj.weight', 'layers.21.input_layernorm.weight', 'layers.21.post_attention_layernorm.weight', 'layers.22.self_attn.q_proj.weight', 'layers.22.self_attn.q_proj.bias', 'layers.22.self_attn.k_proj.weight', 'layers.22.self_attn.k_proj.bias', 'layers.22.self_attn.v_proj.weight', 'layers.22.self_attn.v_proj.bias', 'layers.22.self_attn.o_proj.weight', 'layers.22.mlp.gate_proj.weight', 'layers.22.mlp.up_proj.weight', 'layers.22.mlp.down_proj.weight', 'layers.22.input_layernorm.weight', 'layers.22.post_attention_layernorm.weight', 'layers.23.self_attn.q_proj.weight', 'layers.23.self_attn.q_proj.bias', 'layers.23.self_attn.k_proj.weight', 'layers.23.self_attn.k_proj.bias', 'layers.23.self_attn.v_proj.weight', 'layers.23.self_attn.v_proj.bias', 'layers.23.self_attn.o_proj.weight', 'layers.23.mlp.gate_proj.weight', 'layers.23.mlp.up_proj.weight', 'layers.23.mlp.down_proj.weight', 'layers.23.input_layernorm.weight', 'layers.23.post_attention_layernorm.weight', 'layers.24.self_attn.q_proj.weight', 'layers.24.self_attn.q_proj.bias', 'layers.24.self_attn.k_proj.weight', 'layers.24.self_attn.k_proj.bias', 'layers.24.self_attn.v_proj.weight', 'layers.24.self_attn.v_proj.bias', 'layers.24.self_attn.o_proj.weight', 'layers.24.mlp.gate_proj.weight', 'layers.24.mlp.up_proj.weight', 'layers.24.mlp.down_proj.weight', 'layers.24.input_layernorm.weight', 'layers.24.post_attention_layernorm.weight', 'layers.25.self_attn.q_proj.weight', 'layers.25.self_attn.q_proj.bias', 'layers.25.self_attn.k_proj.weight', 'layers.25.self_attn.k_proj.bias', 'layers.25.self_attn.v_proj.weight', 'layers.25.self_attn.v_proj.bias', 'layers.25.self_attn.o_proj.weight', 'layers.25.mlp.gate_proj.weight', 'layers.25.mlp.up_proj.weight', 'layers.25.mlp.down_proj.weight', 'layers.25.input_layernorm.weight', 'layers.25.post_attention_layernorm.weight', 'layers.26.self_attn.q_proj.weight', 'layers.26.self_attn.q_proj.bias', 'layers.26.self_attn.k_proj.weight', 'layers.26.self_attn.k_proj.bias', 'layers.26.self_attn.v_proj.weight', 'layers.26.self_attn.v_proj.bias', 'layers.26.self_attn.o_proj.weight', 'layers.26.mlp.gate_proj.weight', 'layers.26.mlp.up_proj.weight', 'layers.26.mlp.down_proj.weight', 'layers.26.input_layernorm.weight', 'layers.26.post_attention_layernorm.weight', 'layers.27.self_attn.q_proj.weight', 'layers.27.self_attn.q_proj.bias', 'layers.27.self_attn.k_proj.weight', 'layers.27.self_attn.k_proj.bias', 'layers.27.self_attn.v_proj.weight', 'layers.27.self_attn.v_proj.bias', 'layers.27.self_attn.o_proj.weight', 'layers.27.mlp.gate_proj.weight', 'layers.27.mlp.up_proj.weight', 'layers.27.mlp.down_proj.weight', 'layers.27.input_layernorm.weight', 'layers.27.post_attention_layernorm.weight', 'norm.weight']\n"
     ]
    }
   ],
   "source": [
    "print([name for name, _ in model.named_parameters()])"
   ]
  },
  {
   "cell_type": "code",
   "execution_count": 7,
   "metadata": {},
   "outputs": [
    {
     "data": {
      "text/plain": [
       "Linear(in_features=1536, out_features=151936, bias=False)"
      ]
     },
     "execution_count": 7,
     "metadata": {},
     "output_type": "execute_result"
    }
   ],
   "source": [
    "model = Qwen2ForCausalLM.from_pretrained(\n",
    "        '/mnt/nv1/yeqiang/lcx/nicy/.cache/huggingface/hub/models--Qwen--Qwen2-1.5B-Instruct',\n",
    "        local_files_only=True, # 只使用本地文件，不尝试下载\n",
    "        torch_dtype=torch.float16, # 覆盖默认的torch.dtype并以指定的数据类型加载模型\n",
    "        device_map='cuda:0'\n",
    ")\n",
    "model.lm_head"
   ]
  },
  {
   "cell_type": "code",
   "execution_count": 8,
   "metadata": {},
   "outputs": [
    {
     "data": {
      "text/plain": [
       "Qwen2ForCausalLM(\n",
       "  (model): Qwen2Model(\n",
       "    (embed_tokens): Embedding(151936, 1536)\n",
       "    (layers): ModuleList(\n",
       "      (0-27): 28 x Qwen2DecoderLayer(\n",
       "        (self_attn): Qwen2Attention(\n",
       "          (q_proj): Linear(in_features=1536, out_features=1536, bias=True)\n",
       "          (k_proj): Linear(in_features=1536, out_features=256, bias=True)\n",
       "          (v_proj): Linear(in_features=1536, out_features=256, bias=True)\n",
       "          (o_proj): Linear(in_features=1536, out_features=1536, bias=False)\n",
       "        )\n",
       "        (mlp): Qwen2MLP(\n",
       "          (gate_proj): Linear(in_features=1536, out_features=8960, bias=False)\n",
       "          (up_proj): Linear(in_features=1536, out_features=8960, bias=False)\n",
       "          (down_proj): Linear(in_features=8960, out_features=1536, bias=False)\n",
       "          (act_fn): SiLU()\n",
       "        )\n",
       "        (input_layernorm): Qwen2RMSNorm((1536,), eps=1e-06)\n",
       "        (post_attention_layernorm): Qwen2RMSNorm((1536,), eps=1e-06)\n",
       "      )\n",
       "    )\n",
       "    (norm): Qwen2RMSNorm((1536,), eps=1e-06)\n",
       "    (rotary_emb): Qwen2RotaryEmbedding()\n",
       "  )\n",
       "  (lm_head): Linear(in_features=1536, out_features=151936, bias=False)\n",
       ")"
      ]
     },
     "execution_count": 8,
     "metadata": {},
     "output_type": "execute_result"
    }
   ],
   "source": [
    "model"
   ]
  },
  {
   "cell_type": "code",
   "execution_count": 9,
   "metadata": {},
   "outputs": [
    {
     "name": "stdout",
     "output_type": "stream",
     "text": [
      "cuda:0\n"
     ]
    }
   ],
   "source": [
    "print(model.device)"
   ]
  },
  {
   "cell_type": "code",
   "execution_count": 10,
   "metadata": {},
   "outputs": [],
   "source": [
    "import torch\n",
    "a = torch.Tensor([1,1,1,0,0])\n",
    "b = torch.Tensor([0,0,0,1,1])"
   ]
  },
  {
   "cell_type": "code",
   "execution_count": 11,
   "metadata": {},
   "outputs": [
    {
     "name": "stdout",
     "output_type": "stream",
     "text": [
      "tensor([0, 0, 0, 0, 0], dtype=torch.int32)\n"
     ]
    }
   ],
   "source": [
    "print(torch.eq(a, b).int())"
   ]
  },
  {
   "cell_type": "code",
   "execution_count": 12,
   "metadata": {},
   "outputs": [
    {
     "data": {
      "text/plain": [
       "tensor([False, False, False,  True,  True])"
      ]
     },
     "execution_count": 12,
     "metadata": {},
     "output_type": "execute_result"
    }
   ],
   "source": [
    "a != torch.Tensor([1])"
   ]
  },
  {
   "cell_type": "code",
   "execution_count": 20,
   "metadata": {},
   "outputs": [
    {
     "name": "stderr",
     "output_type": "stream",
     "text": [
      "Generating train split: 494 examples [00:00, 20954.76 examples/s]\n"
     ]
    }
   ],
   "source": [
    "from datasets import load_dataset\n",
    "\n",
    "dataset = load_dataset(\n",
    "    'json',\n",
    "    data_files='/mnt/nv1/yeqiang/lcx/nicy/workspace/code_generation/AlignLLM4Code_GRPO/raw_data/75k/lcs_split_data/functionality_lcs_split_results.jsonl'\n",
    ")\n"
   ]
  },
  {
   "cell_type": "code",
   "execution_count": 23,
   "metadata": {},
   "outputs": [
    {
     "data": {
      "text/plain": [
       "Dataset({\n",
       "    features: ['index', 'programming_language', 'code-instruction', 'generation_model', 'answer', 'final_score'],\n",
       "    num_rows: 494\n",
       "})"
      ]
     },
     "execution_count": 23,
     "metadata": {},
     "output_type": "execute_result"
    }
   ],
   "source": [
    "dataset['train']"
   ]
  },
  {
   "cell_type": "code",
   "execution_count": 29,
   "metadata": {},
   "outputs": [
    {
     "data": {
      "text/plain": [
       "tensor(0.)"
      ]
     },
     "execution_count": 29,
     "metadata": {},
     "output_type": "execute_result"
    }
   ],
   "source": [
    "a = torch.Tensor([[6,6,6,6]])\n",
    "nn.MSELoss()(a,a)"
   ]
  }
 ],
 "metadata": {
  "kernelspec": {
   "display_name": "VideoReward",
   "language": "python",
   "name": "python3"
  },
  "language_info": {
   "codemirror_mode": {
    "name": "ipython",
    "version": 3
   },
   "file_extension": ".py",
   "mimetype": "text/x-python",
   "name": "python",
   "nbconvert_exporter": "python",
   "pygments_lexer": "ipython3",
   "version": "3.10.14"
  }
 },
 "nbformat": 4,
 "nbformat_minor": 2
}
